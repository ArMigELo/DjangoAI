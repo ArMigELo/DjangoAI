{
 "cells": [
  {
   "cell_type": "code",
   "execution_count": 1,
   "id": "ae08cb8c",
   "metadata": {},
   "outputs": [],
   "source": [
    "#モジュールのインポート\n",
    "from PIL import Image\n",
    "import os , glob\n",
    "import numpy as np\n",
    "from sklearn import model_selection\n",
    "\n",
    "#パラメータの初期化\n",
    "classes = [\"cat\" , \"dog\"]\n",
    "num_classes = len(classes)\n",
    "image_size = 224\n",
    "\n",
    "#画像の読み込みとNumPy配列へ変換\n",
    "X = []\n",
    "Y = []\n",
    "\n",
    "for index , classlabel in enumerate(classes):\n",
    "    photos_dir = \"./\" + classlabel\n",
    "    files = glob.glob(photos_dir + \"/*.jpg\")\n",
    "    for i , file in enumerate(files):\n",
    "        image = Image.open(file)\n",
    "        image = image.convert(\"RGB\")\n",
    "        image = image.resize((image_size , image_size))\n",
    "        data = np.asarray(image)\n",
    "        X.append(data)\n",
    "        Y.append(index)\n",
    "\n",
    "X = np.array(X)\n",
    "Y = np.array(Y)\n",
    "\n",
    "X_train , X_test , y_train , y_test = model_selection.train_test_split(X , Y)\n",
    "xy = (X_train , X_test , y_train , y_test)\n",
    "np.save(\"./imagefiles_224_catdog.npy\" , xy)\n"
   ]
  },
  {
   "cell_type": "code",
   "execution_count": null,
   "id": "4fc8602a",
   "metadata": {},
   "outputs": [],
   "source": []
  }
 ],
 "metadata": {
  "kernelspec": {
   "display_name": "Python 3",
   "language": "python",
   "name": "python3"
  },
  "language_info": {
   "codemirror_mode": {
    "name": "ipython",
    "version": 3
   },
   "file_extension": ".py",
   "mimetype": "text/x-python",
   "name": "python",
   "nbconvert_exporter": "python",
   "pygments_lexer": "ipython3",
   "version": "3.8.8"
  }
 },
 "nbformat": 4,
 "nbformat_minor": 5
}
