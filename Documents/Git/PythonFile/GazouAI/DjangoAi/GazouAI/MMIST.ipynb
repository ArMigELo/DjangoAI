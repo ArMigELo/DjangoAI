{
 "cells": [
  {
   "cell_type": "code",
   "execution_count": 2,
   "id": "aef872a8",
   "metadata": {},
   "outputs": [],
   "source": [
    "import tensorflow as tf"
   ]
  },
  {
   "cell_type": "code",
   "execution_count": 3,
   "id": "820b3202",
   "metadata": {},
   "outputs": [
    {
     "name": "stdout",
     "output_type": "stream",
     "text": [
      "Downloading data from https://storage.googleapis.com/tensorflow/tf-keras-datasets/mnist.npz\n",
      "11493376/11490434 [==============================] - 3s 0us/step\n"
     ]
    }
   ],
   "source": [
    "mnist = tf.keras.datasets.mnist#テンソルフローのケラスの中のデータセッツの中のmnistを読み出す\n",
    "(x_train , y_train),(x_test , y_test) = mnist.load_data()#トレーニング用と、テスト用のデータに入れる"
   ]
  },
  {
   "cell_type": "code",
   "execution_count": 6,
   "id": "773dbc8b",
   "metadata": {},
   "outputs": [],
   "source": [
    "x_train , x_test = x_train / 255.0 , x_test / 255.0#データを255.0で割って正規化する"
   ]
  },
  {
   "cell_type": "code",
   "execution_count": 8,
   "id": "431a590f",
   "metadata": {},
   "outputs": [],
   "source": [
    "#画像データを直列に並べる。中間層を全結合する。活性化関数(tf.nn.relu)。\n",
    "model = tf.keras.models.Sequential([\n",
    "    tf.keras.layers.Flatten(input_shape = (28 , 28)),\n",
    "    tf.keras.layers.Dense(512 , activation = tf.nn.relu),\n",
    "    tf.keras.layers.Dropout(0.2),\n",
    "    tf.keras.layers.Dense(10, activation = tf.nn.softmax),\n",
    "])\n",
    "#2割を捨ててデータの偏りを防ぐ。全結合で10個のノード0～9個の数字のどれに相当するか確立を求める"
   ]
  },
  {
   "cell_type": "code",
   "execution_count": 9,
   "id": "b1f478e9",
   "metadata": {},
   "outputs": [],
   "source": [
    "#optimizer最適化の手法adam、loss損失関数クロスエントロピー、metrics学習した内容を保持するaccuracy精度を保存します\n",
    "model.compile(optimizer = \"adam\",\n",
    "             loss = \"sparse_categorical_crossentropy\" , \n",
    "             metrics = [\"accuracy\"])"
   ]
  },
  {
   "cell_type": "code",
   "execution_count": 10,
   "id": "c26bdd7a",
   "metadata": {},
   "outputs": [
    {
     "name": "stdout",
     "output_type": "stream",
     "text": [
      "Epoch 1/5\n",
      "1875/1875 [==============================] - 3s 2ms/step - loss: 0.2193 - accuracy: 0.9357\n",
      "Epoch 2/5\n",
      "1875/1875 [==============================] - 3s 2ms/step - loss: 0.0965 - accuracy: 0.9700\n",
      "Epoch 3/5\n",
      "1875/1875 [==============================] - 3s 2ms/step - loss: 0.0697 - accuracy: 0.9781\n",
      "Epoch 4/5\n",
      "1875/1875 [==============================] - 3s 2ms/step - loss: 0.0516 - accuracy: 0.9831\n",
      "Epoch 5/5\n",
      "1875/1875 [==============================] - 3s 2ms/step - loss: 0.0426 - accuracy: 0.9858\n"
     ]
    },
    {
     "data": {
      "text/plain": [
       "<tensorflow.python.keras.callbacks.History at 0x2dc50823790>"
      ]
     },
     "execution_count": 10,
     "metadata": {},
     "output_type": "execute_result"
    }
   ],
   "source": [
    "model.fit(x_train , y_train , epochs = 5)#データをトレーニングする"
   ]
  },
  {
   "cell_type": "code",
   "execution_count": 11,
   "id": "9afafcab",
   "metadata": {},
   "outputs": [
    {
     "name": "stdout",
     "output_type": "stream",
     "text": [
      "313/313 [==============================] - 0s 1ms/step - loss: 0.0720 - accuracy: 0.9801\n"
     ]
    },
    {
     "data": {
      "text/plain": [
       "[0.07204300165176392, 0.9800999760627747]"
      ]
     },
     "execution_count": 11,
     "metadata": {},
     "output_type": "execute_result"
    }
   ],
   "source": [
    "model.evaluate(x_test , y_test)"
   ]
  },
  {
   "cell_type": "code",
   "execution_count": null,
   "id": "182784a5",
   "metadata": {},
   "outputs": [],
   "source": []
  }
 ],
 "metadata": {
  "kernelspec": {
   "display_name": "Python 3",
   "language": "python",
   "name": "python3"
  },
  "language_info": {
   "codemirror_mode": {
    "name": "ipython",
    "version": 3
   },
   "file_extension": ".py",
   "mimetype": "text/x-python",
   "name": "python",
   "nbconvert_exporter": "python",
   "pygments_lexer": "ipython3",
   "version": "3.8.8"
  }
 },
 "nbformat": 4,
 "nbformat_minor": 5
}
